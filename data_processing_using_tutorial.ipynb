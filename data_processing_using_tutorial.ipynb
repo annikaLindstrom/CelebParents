{
 "cells": [
  {
   "cell_type": "code",
   "execution_count": 1,
   "id": "6779d23b-0e5e-4077-be34-325cf24336b7",
   "metadata": {},
   "outputs": [
    {
     "name": "stderr",
     "output_type": "stream",
     "text": [
      "2024-04-19 19:52:08.971674: I tensorflow/core/platform/cpu_feature_guard.cc:182] This TensorFlow binary is optimized to use available CPU instructions in performance-critical operations.\n",
      "To enable the following instructions: AVX2 FMA, in other operations, rebuild TensorFlow with the appropriate compiler flags.\n"
     ]
    }
   ],
   "source": [
    "import pandas as pd\n",
    "import scipy.io\n",
    "from deepface import DeepFace\n",
    "from tqdm.auto import tqdm\n",
    "from joblib import Parallel, delayed\n",
    "import scipy\n",
    "import pandas as pd\n",
    "import numpy as np\n",
    "import cv2\n",
    "import time\n",
    "import face_recognition\n",
    "import tarfile\n",
    "import os\n",
    "from concurrent.futures import ThreadPoolExecutor\n",
    "from tqdm.auto import tqdm\n",
    "import gc\n",
    "from joblib import Parallel, delayed\n",
    "import pandas as pd\n",
    "import scipy.io\n",
    "from deepface import DeepFace\n",
    "import logging\n",
    "logging.getLogger(\"deepface\").setLevel(logging.ERROR)"
   ]
  },
  {
   "cell_type": "code",
   "execution_count": null,
   "id": "13d361c6-95e0-4e52-be64-0278d8eaf976",
   "metadata": {},
   "outputs": [],
   "source": [
    "# Load Data from the .mat into a pandas dataframe\n",
    "mat = scipy.io.loadmat('imdb_crop/imdb.mat')\n",
    "columns = [\"dob\", \"photo_taken\", \"full_path\", \"gender\", \"name\", \"face_location\", \"face_score\", \"second_face_score\",\n",
    "           \"celeb_names\", \"celeb_id\"]\n",
    "instances = mat['imdb'][0][0][0].shape[1]\n",
    "df = pd.DataFrame(index=range(0, instances), columns=columns)\n",
    "\n",
    "for i in mat:\n",
    "    if i == \"imdb\":\n",
    "        current_array = mat[i][0][0]\n",
    "        for j in range(len(current_array)):\n",
    "            df[columns[j]] = pd.DataFrame(current_array[j][0])\n",
    "\n",
    "# remove pictures that don't have face\n",
    "df = df[df['face_score'] != -np.inf]\n",
    "\n",
    "# remove pictures with more than one face\n",
    "df = df[df['second_face_score'].isna()]\n",
    "\n",
    "# only take high quality photos\n",
    "df = df[df['face_score'] >= 3]\n",
    " "
   ]
  },
  {
   "cell_type": "code",
   "execution_count": 59,
   "id": "796aacff-e68e-41b7-9a17-0a6f0fd961a1",
   "metadata": {},
   "outputs": [],
   "source": [
    "#df_og = df \n",
    "#df = df.iloc[0:10]"
   ]
  },
  {
   "cell_type": "code",
   "execution_count": null,
   "id": "766f322c-e0ff-48c9-9b2f-d4ed330f92e2",
   "metadata": {},
   "outputs": [],
   "source": [
    "def getImagePixels(image_path):\n",
    "   return cv2.imread(\"imdb_crop/\" + image_path[0])\n",
    "\n",
    "# Applying parallel image loading to help speed up the code\n",
    "def parallel_get_image(image_paths):\n",
    "    # To add a progress bar, we wrap image_paths with `tqdm`\n",
    "    with ThreadPoolExecutor(max_workers=10) as executor:\n",
    "        images = list(tqdm(executor.map(getImagePixels, image_paths), total=len(image_paths), desc=\"Loading Images\"))\n",
    "    return images\n",
    "\n",
    "\n",
    "df['pixels'] = parallel_get_image(df['full_path'])\n",
    " \n",
    "#df['pixels'] = df['full_path'].apply(getImagePixels)"
   ]
  },
  {
   "cell_type": "code",
   "execution_count": 6,
   "id": "c36d85d0-42ce-468c-9fa7-a838f0830933",
   "metadata": {},
   "outputs": [
    {
     "name": "stderr",
     "output_type": "stream",
     "text": [
      "Processing images: 100%|██████████| 95234/95234 [6:26:59<00:00,  4.10it/s]      \n"
     ]
    }
   ],
   "source": [
    "import pandas as pd\n",
    "from deepface import DeepFace\n",
    "from concurrent.futures import ThreadPoolExecutor, as_completed\n",
    "from tqdm import tqdm\n",
    "\n",
    "def findFaceRepresentation(img):\n",
    "    try:\n",
    "        # Assuming 'img' is a path or a valid image format for DeepFace\n",
    "        representation = DeepFace.represent(img_path=img, model_name=\"VGG-Face\", detector_backend=\"skip\")\n",
    "    except Exception as e:\n",
    "        print(f\"Error processing image {img}: {e}\")\n",
    "        representation = None\n",
    "    return representation\n",
    "\n",
    "def apply_parallel(df, func):\n",
    "    # Number of workers (threads); adjust based on your system capabilities\n",
    "    num_workers = 10\n",
    "    # Create a thread pool for parallel processing\n",
    "    with ThreadPoolExecutor(max_workers=num_workers) as executor:\n",
    "        # Set up a progress bar\n",
    "        tasks = [executor.submit(func, img) for img in df['pixels']]\n",
    "        results = []\n",
    "        for future in tqdm(as_completed(tasks), total=len(tasks), desc=\"Processing images\"):\n",
    "            results.append(future.result())\n",
    "        return results\n",
    "\n",
    "# Assuming 'df' is your DataFrame and 'pixels' contains image paths or data\n",
    "df['face_vector_raw'] = apply_parallel(df, findFaceRepresentation)\n"
   ]
  },
  {
   "cell_type": "markdown",
   "id": "96bd6362-174a-4c40-87be-fa02f382eec0",
   "metadata": {},
   "source": [
    "# Save as pickle!"
   ]
  },
  {
   "cell_type": "markdown",
   "id": "748a60d2-2e4a-44e8-b03f-f2db8a9853dc",
   "metadata": {},
   "source": [
    "Uncomment the line below"
   ]
  },
  {
   "cell_type": "code",
   "execution_count": 7,
   "id": "dc39b017-6150-41f2-9f76-2079ed4fe1aa",
   "metadata": {},
   "outputs": [],
   "source": [
    "#df.to_pickle(\"./df_with_embeddings.pkl\")"
   ]
  },
  {
   "cell_type": "markdown",
   "id": "369142e8-b518-4466-8d0b-a6d88b4390c5",
   "metadata": {},
   "source": [
    "Then, to load the pickle when you want to use it, use \n",
    "\n",
    "`unpickled_df = pd.read_pickle(\"./df_with_embeddings.pkl\")`"
   ]
  },
  {
   "cell_type": "code",
   "execution_count": null,
   "id": "8d2339f4-d5cd-4360-89a7-8e2da8b23cba",
   "metadata": {},
   "outputs": [],
   "source": []
  }
 ],
 "metadata": {
  "kernelspec": {
   "display_name": "Python 3 (ipykernel)",
   "language": "python",
   "name": "python3"
  },
  "language_info": {
   "codemirror_mode": {
    "name": "ipython",
    "version": 3
   },
   "file_extension": ".py",
   "mimetype": "text/x-python",
   "name": "python",
   "nbconvert_exporter": "python",
   "pygments_lexer": "ipython3",
   "version": "3.8.18"
  }
 },
 "nbformat": 4,
 "nbformat_minor": 5
}
